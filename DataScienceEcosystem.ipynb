{
 "cells": [
  {
   "cell_type": "markdown",
   "id": "1a4ce5b0-214b-42b5-a16b-07e519232aa1",
   "metadata": {},
   "source": [
    "<H1>Data Science Tools and Ecosystem</H1>"
   ]
  },
  {
   "cell_type": "markdown",
   "id": "b524736e-2344-4219-b8c9-21e4c551c465",
   "metadata": {},
   "source": [
    "In this notebook, Data Science Tools and Ecosystem are summarized."
   ]
  },
  {
   "cell_type": "markdown",
   "id": "d603b180-7e22-4dae-ab14-70094fc831c4",
   "metadata": {},
   "source": [
    "**Objectives:**\n",
    "    <ul>\n",
    "        <li>List popular languages that data scientist use</li>\n",
    "        <li>List some common used libraries used by data scientist</li>\n",
    "        <li>Create a simple arithmetic expression</li>\n",
    "        <li>Converting 200 minutes to hours by diving by 60</li>\n",
    "    </ul>"
   ]
  },
  {
   "cell_type": "markdown",
   "id": "4c619fe9-0e24-41cb-9941-1096fc4a5bf5",
   "metadata": {},
   "source": [
    "Some of the popular languages that Data Scientists use are:"
   ]
  },
  {
   "cell_type": "markdown",
   "id": "48399176-2447-4e81-a2c4-6c9f2027df95",
   "metadata": {},
   "source": [
    "<ol>\n",
    "        <li>Python</li>\n",
    "        <li>R</li>\n",
    "        <li>SQL</li>\n",
    "        <li>Julia</li>\n",
    "        <li>Scala</li>\n",
    "        <li>Java Script</li>\n",
    "    </ol>"
   ]
  },
  {
   "cell_type": "markdown",
   "id": "4fffacec-4a9f-436d-a27d-07b3ea7c2dcf",
   "metadata": {},
   "source": [
    "Some of the commonly used libraries used by Data Scientists include:"
   ]
  },
  {
   "cell_type": "markdown",
   "id": "75eaebea-8ff7-49e9-9c6e-99bf91b235be",
   "metadata": {},
   "source": [
    "<ol>\n",
    "         <li>TensorFlow</li>\n",
    "         <li>NumPy</li>\n",
    "         <li>SciPy</li>\n",
    "         <li>Pandas</li>\n",
    "         <li>Matplotlib</li>\n",
    "         <li>Keras</li>\n",
    "         <li>PyTorch</li>\n",
    "    </ol>"
   ]
  },
  {
   "cell_type": "markdown",
   "id": "cb58531c-1685-4a50-9557-c1f551b594ef",
   "metadata": {},
   "source": [
    "<table>\n",
    "      <tr>\n",
    "        <th>Data Science Tools</th>\n",
    "      </tr>\n",
    "      <tr>\n",
    "        <td>Jupyter Notebook</td>\n",
    "      </tr>\n",
    "      <tr>\n",
    "        <td>Pandas</td>\n",
    "      </tr>\n",
    "      <tr>\n",
    "          <td>PyTorch</td>\n",
    "      </tr>\n",
    "      <tr>\n",
    "          <td>TensorFlow</td>\n",
    "      </tr>\n",
    "    </table>"
   ]
  },
  {
   "cell_type": "markdown",
   "id": "af528b59-f6a6-4968-9e8b-57da5a7bb0a6",
   "metadata": {},
   "source": [
    "<H3>Below are a few examples of evaluating arithmetic expressions in Python.</H3>"
   ]
  },
  {
   "cell_type": "code",
   "execution_count": 14,
   "id": "ee8c6184-f29d-48c0-b9c0-a5d3d091f9c4",
   "metadata": {},
   "outputs": [
    {
     "data": {
      "text/plain": [
       "17"
      ]
     },
     "execution_count": 14,
     "metadata": {},
     "output_type": "execute_result"
    }
   ],
   "source": [
    "# This a simple arithmetic expression to multiply then add integers.\n",
    "(3*4)+5"
   ]
  },
  {
   "cell_type": "code",
   "execution_count": 15,
   "id": "a7adfc2a-fc1e-45bc-bda1-2a7785617b3b",
   "metadata": {},
   "outputs": [
    {
     "name": "stdout",
     "output_type": "stream",
     "text": [
      "3.3333333333333335 hours\n"
     ]
    }
   ],
   "source": [
    "# This will convert 200 minutes to hours by diving by 60.\n",
    "x=(200/60)\n",
    "print(x,\"hours\")"
   ]
  },
  {
   "cell_type": "markdown",
   "id": "e1fec0e4-a2b8-4211-8404-4339265852b8",
   "metadata": {},
   "source": [
    "## Author\n",
    "    Kirill Bubnov"
   ]
  }
 ],
 "metadata": {
  "kernelspec": {
   "display_name": "Python",
   "language": "python",
   "name": "conda-env-python-py"
  },
  "language_info": {
   "codemirror_mode": {
    "name": "ipython",
    "version": 3
   },
   "file_extension": ".py",
   "mimetype": "text/x-python",
   "name": "python",
   "nbconvert_exporter": "python",
   "pygments_lexer": "ipython3",
   "version": "3.7.12"
  }
 },
 "nbformat": 4,
 "nbformat_minor": 5
}
